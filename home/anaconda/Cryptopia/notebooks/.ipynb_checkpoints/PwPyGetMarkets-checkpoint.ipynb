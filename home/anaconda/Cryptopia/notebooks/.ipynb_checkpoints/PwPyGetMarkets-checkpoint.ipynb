{
 "cells": [
  {
   "cell_type": "code",
   "execution_count": 1,
   "metadata": {
    "collapsed": true,
    "scrolled": true
   },
   "outputs": [],
   "source": [
    "import requests\n",
    "import json\n",
    "import pandas as pd"
   ]
  },
  {
   "cell_type": "code",
   "execution_count": 2,
   "metadata": {},
   "outputs": [
    {
     "data": {
      "text/plain": [
       "<Response [200]>"
      ]
     },
     "execution_count": 2,
     "metadata": {},
     "output_type": "execute_result"
    }
   ],
   "source": [
    "path12 = 'https://www.cryptopia.co.nz/api/GetMarkets/BTC/12'\n",
    "path1 = 'https://www.cryptopia.co.nz/api/GetMarkets/BTC/1'\n",
    "r = requests.get(path1)#.encode('utf-8')\n",
    "r\n",
    "#r.text"
   ]
  },
  {
   "cell_type": "code",
   "execution_count": 4,
   "metadata": {
    "scrolled": false
   },
   "outputs": [],
   "source": [
    "jsload = json.loads(r.text)#\n",
    "#jsloadcut = jsload['Data']\n",
    "#jsload['Data']"
   ]
  },
  {
   "cell_type": "code",
   "execution_count": 5,
   "metadata": {
    "collapsed": true
   },
   "outputs": [],
   "source": [
    "#1\n",
    "#df = pd.read_json(jsloadcut, typ='records', encoding='utf-8')\n",
    "#df"
   ]
  },
  {
   "cell_type": "code",
   "execution_count": 6,
   "metadata": {
    "scrolled": true
   },
   "outputs": [
    {
     "ename": "TypeError",
     "evalue": "'NoneType' object is not subscriptable",
     "output_type": "error",
     "traceback": [
      "\u001b[0;31m---------------------------------------------------------------------------\u001b[0m",
      "\u001b[0;31mTypeError\u001b[0m                                 Traceback (most recent call last)",
      "\u001b[0;32m<ipython-input-6-8fe594fa246e>\u001b[0m in \u001b[0;36m<module>\u001b[0;34m()\u001b[0m\n\u001b[1;32m      1\u001b[0m \u001b[0;32mfrom\u001b[0m \u001b[0mpandas\u001b[0m\u001b[0;34m.\u001b[0m\u001b[0mio\u001b[0m\u001b[0;34m.\u001b[0m\u001b[0mjson\u001b[0m \u001b[0;32mimport\u001b[0m \u001b[0mjson_normalize\u001b[0m\u001b[0;34m\u001b[0m\u001b[0m\n\u001b[0;32m----> 2\u001b[0;31m \u001b[0mdf\u001b[0m \u001b[0;34m=\u001b[0m \u001b[0mjson_normalize\u001b[0m\u001b[0;34m(\u001b[0m\u001b[0mjsload\u001b[0m\u001b[0;34m[\u001b[0m\u001b[0;34m'Data'\u001b[0m\u001b[0;34m]\u001b[0m\u001b[0;34m)\u001b[0m\u001b[0;34m\u001b[0m\u001b[0m\n\u001b[0m",
      "\u001b[0;31mTypeError\u001b[0m: 'NoneType' object is not subscriptable"
     ]
    }
   ],
   "source": [
    "from pandas.io.json import json_normalize\n",
    "df = json_normalize(jsload['Data'])"
   ]
  },
  {
   "cell_type": "code",
   "execution_count": null,
   "metadata": {},
   "outputs": [],
   "source": [
    "df"
   ]
  },
  {
   "cell_type": "code",
   "execution_count": 27,
   "metadata": {
    "scrolled": false
   },
   "outputs": [
    {
     "data": {
      "text/html": [
       "<div>\n",
       "<style>\n",
       "    .dataframe thead tr:only-child th {\n",
       "        text-align: right;\n",
       "    }\n",
       "\n",
       "    .dataframe thead th {\n",
       "        text-align: left;\n",
       "    }\n",
       "\n",
       "    .dataframe tbody tr th {\n",
       "        vertical-align: top;\n",
       "    }\n",
       "</style>\n",
       "<table border=\"1\" class=\"dataframe\">\n",
       "  <thead>\n",
       "    <tr style=\"text-align: right;\">\n",
       "      <th></th>\n",
       "      <th>356</th>\n",
       "      <th>350</th>\n",
       "      <th>146</th>\n",
       "      <th>293</th>\n",
       "      <th>179</th>\n",
       "      <th>181</th>\n",
       "      <th>511</th>\n",
       "      <th>297</th>\n",
       "      <th>119</th>\n",
       "      <th>517</th>\n",
       "      <th>75</th>\n",
       "      <th>41</th>\n",
       "    </tr>\n",
       "  </thead>\n",
       "  <tbody>\n",
       "    <tr>\n",
       "      <th>AskPrice</th>\n",
       "      <td>0.00016975</td>\n",
       "      <td>0.00153004</td>\n",
       "      <td>0.00034001</td>\n",
       "      <td>0.0188353</td>\n",
       "      <td>0.0751196</td>\n",
       "      <td>5.74e-06</td>\n",
       "      <td>1.093e-05</td>\n",
       "      <td>1e-08</td>\n",
       "      <td>0.00012017</td>\n",
       "      <td>3.599e-05</td>\n",
       "      <td>0.00125599</td>\n",
       "      <td>0.111378</td>\n",
       "    </tr>\n",
       "    <tr>\n",
       "      <th>BaseVolume</th>\n",
       "      <td>22.1364</td>\n",
       "      <td>5.31556</td>\n",
       "      <td>4.42686</td>\n",
       "      <td>2.41529</td>\n",
       "      <td>2.18694</td>\n",
       "      <td>2.14372</td>\n",
       "      <td>1.8458</td>\n",
       "      <td>1.51577</td>\n",
       "      <td>1.28586</td>\n",
       "      <td>1.16018</td>\n",
       "      <td>1.10205</td>\n",
       "      <td>1.00661</td>\n",
       "    </tr>\n",
       "    <tr>\n",
       "      <th>BidPrice</th>\n",
       "      <td>0.00016718</td>\n",
       "      <td>0.00153001</td>\n",
       "      <td>0.00034</td>\n",
       "      <td>0.01883</td>\n",
       "      <td>0.0746002</td>\n",
       "      <td>5.73e-06</td>\n",
       "      <td>1.092e-05</td>\n",
       "      <td>0</td>\n",
       "      <td>0.00011131</td>\n",
       "      <td>3.527e-05</td>\n",
       "      <td>0.00125003</td>\n",
       "      <td>0.111</td>\n",
       "    </tr>\n",
       "    <tr>\n",
       "      <th>BuyBaseVolume</th>\n",
       "      <td>32.4588</td>\n",
       "      <td>8.0937</td>\n",
       "      <td>17.3627</td>\n",
       "      <td>25.0626</td>\n",
       "      <td>12.2749</td>\n",
       "      <td>43.8085</td>\n",
       "      <td>21.7484</td>\n",
       "      <td>0</td>\n",
       "      <td>1.74845</td>\n",
       "      <td>8.92098</td>\n",
       "      <td>23.1964</td>\n",
       "      <td>9.56674</td>\n",
       "    </tr>\n",
       "    <tr>\n",
       "      <th>BuyVolume</th>\n",
       "      <td>821892</td>\n",
       "      <td>234549</td>\n",
       "      <td>208486</td>\n",
       "      <td>1.04736e+07</td>\n",
       "      <td>1.04316e+07</td>\n",
       "      <td>3.40755e+07</td>\n",
       "      <td>6.41251e+06</td>\n",
       "      <td>0</td>\n",
       "      <td>368575</td>\n",
       "      <td>1.44284e+07</td>\n",
       "      <td>728432</td>\n",
       "      <td>1.00843e+07</td>\n",
       "    </tr>\n",
       "    <tr>\n",
       "      <th>Change</th>\n",
       "      <td>0.27</td>\n",
       "      <td>4.81</td>\n",
       "      <td>-0.03</td>\n",
       "      <td>-0.53</td>\n",
       "      <td>0.54</td>\n",
       "      <td>-0.17</td>\n",
       "      <td>-2.41</td>\n",
       "      <td>0</td>\n",
       "      <td>8.15</td>\n",
       "      <td>0.42</td>\n",
       "      <td>5.49</td>\n",
       "      <td>2.4</td>\n",
       "    </tr>\n",
       "    <tr>\n",
       "      <th>Close</th>\n",
       "      <td>0.00016972</td>\n",
       "      <td>0.00153004</td>\n",
       "      <td>0.00034001</td>\n",
       "      <td>0.01883</td>\n",
       "      <td>0.075088</td>\n",
       "      <td>5.73e-06</td>\n",
       "      <td>1.092e-05</td>\n",
       "      <td>1e-08</td>\n",
       "      <td>0.0001111</td>\n",
       "      <td>3.598e-05</td>\n",
       "      <td>0.00125</td>\n",
       "      <td>0.111</td>\n",
       "    </tr>\n",
       "    <tr>\n",
       "      <th>High</th>\n",
       "      <td>0.00017085</td>\n",
       "      <td>0.0016521</td>\n",
       "      <td>0.00034833</td>\n",
       "      <td>0.0189533</td>\n",
       "      <td>0.075235</td>\n",
       "      <td>5.75e-06</td>\n",
       "      <td>1.132e-05</td>\n",
       "      <td>1e-08</td>\n",
       "      <td>0.00020004</td>\n",
       "      <td>3.6e-05</td>\n",
       "      <td>0.00125</td>\n",
       "      <td>0.111438</td>\n",
       "    </tr>\n",
       "    <tr>\n",
       "      <th>Label</th>\n",
       "      <td>ORME/BTC</td>\n",
       "      <td>OMG/BTC</td>\n",
       "      <td>DIVX/BTC</td>\n",
       "      <td>LTC/BTC</td>\n",
       "      <td>ETH/BTC</td>\n",
       "      <td>ETN/BTC</td>\n",
       "      <td>XBY/BTC</td>\n",
       "      <td>LYNX/BTC</td>\n",
       "      <td>CRC/BTC</td>\n",
       "      <td>XEM/BTC</td>\n",
       "      <td>BTX/BTC</td>\n",
       "      <td>BCH/BTC</td>\n",
       "    </tr>\n",
       "    <tr>\n",
       "      <th>LastPrice</th>\n",
       "      <td>0.00016972</td>\n",
       "      <td>0.00153004</td>\n",
       "      <td>0.00034001</td>\n",
       "      <td>0.01883</td>\n",
       "      <td>0.075088</td>\n",
       "      <td>5.73e-06</td>\n",
       "      <td>1.092e-05</td>\n",
       "      <td>1e-08</td>\n",
       "      <td>0.0001111</td>\n",
       "      <td>3.598e-05</td>\n",
       "      <td>0.00125</td>\n",
       "      <td>0.111</td>\n",
       "    </tr>\n",
       "    <tr>\n",
       "      <th>Low</th>\n",
       "      <td>0.000167</td>\n",
       "      <td>0.001432</td>\n",
       "      <td>0.00034</td>\n",
       "      <td>0.0186845</td>\n",
       "      <td>0.0744293</td>\n",
       "      <td>5.69e-06</td>\n",
       "      <td>1.075e-05</td>\n",
       "      <td>1e-08</td>\n",
       "      <td>0.00010273</td>\n",
       "      <td>3.447e-05</td>\n",
       "      <td>0.001185</td>\n",
       "      <td>0.108403</td>\n",
       "    </tr>\n",
       "    <tr>\n",
       "      <th>Open</th>\n",
       "      <td>0.00016926</td>\n",
       "      <td>0.00145979</td>\n",
       "      <td>0.00034011</td>\n",
       "      <td>0.0189298</td>\n",
       "      <td>0.0746818</td>\n",
       "      <td>5.74e-06</td>\n",
       "      <td>1.119e-05</td>\n",
       "      <td>1e-08</td>\n",
       "      <td>0.00010273</td>\n",
       "      <td>3.583e-05</td>\n",
       "      <td>0.001185</td>\n",
       "      <td>0.108403</td>\n",
       "    </tr>\n",
       "    <tr>\n",
       "      <th>SellBaseVolume</th>\n",
       "      <td>2.04642e+06</td>\n",
       "      <td>2148.89</td>\n",
       "      <td>279.827</td>\n",
       "      <td>243970</td>\n",
       "      <td>1.90364e+07</td>\n",
       "      <td>8.47334e+09</td>\n",
       "      <td>1.55073e+08</td>\n",
       "      <td>8977.82</td>\n",
       "      <td>81.8402</td>\n",
       "      <td>61907.4</td>\n",
       "      <td>927245</td>\n",
       "      <td>8.02187e+07</td>\n",
       "    </tr>\n",
       "    <tr>\n",
       "      <th>SellVolume</th>\n",
       "      <td>615464</td>\n",
       "      <td>6633.27</td>\n",
       "      <td>133236</td>\n",
       "      <td>2722.71</td>\n",
       "      <td>688.317</td>\n",
       "      <td>1.13983e+08</td>\n",
       "      <td>8.21462e+06</td>\n",
       "      <td>2.60732e+09</td>\n",
       "      <td>31341.7</td>\n",
       "      <td>630991</td>\n",
       "      <td>20609.3</td>\n",
       "      <td>509.427</td>\n",
       "    </tr>\n",
       "    <tr>\n",
       "      <th>TradePairId</th>\n",
       "      <td>5504</td>\n",
       "      <td>5445</td>\n",
       "      <td>5743</td>\n",
       "      <td>101</td>\n",
       "      <td>5203</td>\n",
       "      <td>5662</td>\n",
       "      <td>5121</td>\n",
       "      <td>2865</td>\n",
       "      <td>5809</td>\n",
       "      <td>5157</td>\n",
       "      <td>5074</td>\n",
       "      <td>5355</td>\n",
       "    </tr>\n",
       "    <tr>\n",
       "      <th>Volume</th>\n",
       "      <td>130999</td>\n",
       "      <td>3526.65</td>\n",
       "      <td>12885.2</td>\n",
       "      <td>128.342</td>\n",
       "      <td>29.2584</td>\n",
       "      <td>375082</td>\n",
       "      <td>166695</td>\n",
       "      <td>1.51577e+08</td>\n",
       "      <td>9136.15</td>\n",
       "      <td>32688.2</td>\n",
       "      <td>896.403</td>\n",
       "      <td>9.16397</td>\n",
       "    </tr>\n",
       "  </tbody>\n",
       "</table>\n",
       "</div>"
      ],
      "text/plain": [
       "                        356         350         146          293          179  \\\n",
       "AskPrice         0.00016975  0.00153004  0.00034001    0.0188353    0.0751196   \n",
       "BaseVolume          22.1364     5.31556     4.42686      2.41529      2.18694   \n",
       "BidPrice         0.00016718  0.00153001     0.00034      0.01883    0.0746002   \n",
       "BuyBaseVolume       32.4588      8.0937     17.3627      25.0626      12.2749   \n",
       "BuyVolume            821892      234549      208486  1.04736e+07  1.04316e+07   \n",
       "Change                 0.27        4.81       -0.03        -0.53         0.54   \n",
       "Close            0.00016972  0.00153004  0.00034001      0.01883     0.075088   \n",
       "High             0.00017085   0.0016521  0.00034833    0.0189533     0.075235   \n",
       "Label              ORME/BTC     OMG/BTC    DIVX/BTC      LTC/BTC      ETH/BTC   \n",
       "LastPrice        0.00016972  0.00153004  0.00034001      0.01883     0.075088   \n",
       "Low                0.000167    0.001432     0.00034    0.0186845    0.0744293   \n",
       "Open             0.00016926  0.00145979  0.00034011    0.0189298    0.0746818   \n",
       "SellBaseVolume  2.04642e+06     2148.89     279.827       243970  1.90364e+07   \n",
       "SellVolume           615464     6633.27      133236      2722.71      688.317   \n",
       "TradePairId            5504        5445        5743          101         5203   \n",
       "Volume               130999     3526.65     12885.2      128.342      29.2584   \n",
       "\n",
       "                        181          511          297         119  \\\n",
       "AskPrice           5.74e-06    1.093e-05        1e-08  0.00012017   \n",
       "BaseVolume          2.14372       1.8458      1.51577     1.28586   \n",
       "BidPrice           5.73e-06    1.092e-05            0  0.00011131   \n",
       "BuyBaseVolume       43.8085      21.7484            0     1.74845   \n",
       "BuyVolume       3.40755e+07  6.41251e+06            0      368575   \n",
       "Change                -0.17        -2.41            0        8.15   \n",
       "Close              5.73e-06    1.092e-05        1e-08   0.0001111   \n",
       "High               5.75e-06    1.132e-05        1e-08  0.00020004   \n",
       "Label               ETN/BTC      XBY/BTC     LYNX/BTC     CRC/BTC   \n",
       "LastPrice          5.73e-06    1.092e-05        1e-08   0.0001111   \n",
       "Low                5.69e-06    1.075e-05        1e-08  0.00010273   \n",
       "Open               5.74e-06    1.119e-05        1e-08  0.00010273   \n",
       "SellBaseVolume  8.47334e+09  1.55073e+08      8977.82     81.8402   \n",
       "SellVolume      1.13983e+08  8.21462e+06  2.60732e+09     31341.7   \n",
       "TradePairId            5662         5121         2865        5809   \n",
       "Volume               375082       166695  1.51577e+08     9136.15   \n",
       "\n",
       "                        517         75           41   \n",
       "AskPrice          3.599e-05  0.00125599     0.111378  \n",
       "BaseVolume          1.16018     1.10205      1.00661  \n",
       "BidPrice          3.527e-05  0.00125003        0.111  \n",
       "BuyBaseVolume       8.92098     23.1964      9.56674  \n",
       "BuyVolume       1.44284e+07      728432  1.00843e+07  \n",
       "Change                 0.42        5.49          2.4  \n",
       "Close             3.598e-05     0.00125        0.111  \n",
       "High                3.6e-05     0.00125     0.111438  \n",
       "Label               XEM/BTC     BTX/BTC      BCH/BTC  \n",
       "LastPrice         3.598e-05     0.00125        0.111  \n",
       "Low               3.447e-05    0.001185     0.108403  \n",
       "Open              3.583e-05    0.001185     0.108403  \n",
       "SellBaseVolume      61907.4      927245  8.02187e+07  \n",
       "SellVolume           630991     20609.3      509.427  \n",
       "TradePairId            5157        5074         5355  \n",
       "Volume              32688.2     896.403      9.16397  "
      ]
     },
     "execution_count": 27,
     "metadata": {},
     "output_type": "execute_result"
    }
   ],
   "source": [
    "#df\n",
    "#df['Id']\n",
    "#df.head()\n",
    "#df.sort_values(by='Id')..T\n",
    "#df[df['Name'] == 'ACoin']\n",
    "#df[df['Id'] < 10].sort_values(by='Id')\n",
    "#[df['Status'] == 'OK']\n",
    "newdf = df.sort_values(by='BaseVolume', ascending=[False])\n",
    "newdf.head(12).T"
   ]
  },
  {
   "cell_type": "code",
   "execution_count": 47,
   "metadata": {},
   "outputs": [
    {
     "data": {
      "text/plain": [
       "'0.00000573'"
      ]
     },
     "execution_count": 47,
     "metadata": {},
     "output_type": "execute_result"
    }
   ],
   "source": [
    "x = 5.73e-06\n",
    "'{:.8f}'.format(x)\n",
    "#y = float(x)\n",
    "#y.imag(10)"
   ]
  },
  {
   "cell_type": "code",
   "execution_count": 52,
   "metadata": {
    "collapsed": true
   },
   "outputs": [],
   "source": [
    "x = x*0.002"
   ]
  },
  {
   "cell_type": "code",
   "execution_count": 54,
   "metadata": {},
   "outputs": [
    {
     "data": {
      "text/plain": [
       "'0.0000000115'"
      ]
     },
     "execution_count": 54,
     "metadata": {},
     "output_type": "execute_result"
    }
   ],
   "source": [
    "'{:.10f}'.format(x)"
   ]
  },
  {
   "cell_type": "code",
   "execution_count": null,
   "metadata": {
    "collapsed": true
   },
   "outputs": [],
   "source": []
  }
 ],
 "metadata": {
  "kernelspec": {
   "display_name": "Python 3",
   "language": "python",
   "name": "python3"
  },
  "language_info": {
   "codemirror_mode": {
    "name": "ipython",
    "version": 3
   },
   "file_extension": ".py",
   "mimetype": "text/x-python",
   "name": "python",
   "nbconvert_exporter": "python",
   "pygments_lexer": "ipython3",
   "version": "3.6.1"
  }
 },
 "nbformat": 4,
 "nbformat_minor": 2
}
