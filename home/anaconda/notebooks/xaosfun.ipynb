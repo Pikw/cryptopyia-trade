{
 "cells": [
  {
   "cell_type": "code",
   "execution_count": 1,
   "metadata": {
    "collapsed": false
   },
   "outputs": [
    {
     "ename": "SyntaxError",
     "evalue": "invalid syntax (<ipython-input-1-35c88e2ffc0e>, line 13)",
     "output_type": "error",
     "traceback": [
      "\u001b[1;36m  File \u001b[1;32m\"<ipython-input-1-35c88e2ffc0e>\"\u001b[1;36m, line \u001b[1;32m13\u001b[0m\n\u001b[1;33m    dbConn.commit()\u001b[0m\n\u001b[1;37m         ^\u001b[0m\n\u001b[1;31mSyntaxError\u001b[0m\u001b[1;31m:\u001b[0m invalid syntax\n"
     ]
    }
   ],
   "source": [
    "import requests\n",
    "import MySQLdb\n",
    "\n",
    "dbConn = MySQLdb.connect(\"celeron\",\"root\",\"1500786\",\"data\")\n",
    "cursor = dbConn.cursor()\n",
    "#r = requests.get('http://box.xaos/')\n",
    "r = requests.get(\"http://192.168.100.177\")\n",
    "pieses = r.split()#\"\\n\")\n",
    "# генерируем уникальный номер\n",
    "# записываем данные\n",
    "#try:\n",
    "cursor.execute(\"INSERT INTO xaosbox (place,tinbox,toutbox,tlamp,tgrount) VALUES (%s,%s,%s,%s,%s)\",(pieses[0],pieses[1],pieses[2],pieses[3],pieses[4])\n",
    "dbConn.commit()\n",
    "cursor.close()\n",
    "\n",
    "#except MySQLdb.IntegrityError:\n",
    "#print \"faled insert data\"\n",
    "\n",
    "#finally:\n",
    "cursor.close()\n",
    "\n",
    "print \"ok\"\n",
    "\n",
    "\n"
   ]
  },
  {
   "cell_type": "code",
   "execution_count": null,
   "metadata": {
    "collapsed": true
   },
   "outputs": [],
   "source": []
  }
 ],
 "metadata": {
  "kernelspec": {
   "display_name": "Python 3",
   "language": "python",
   "name": "python3"
  },
  "language_info": {
   "codemirror_mode": {
    "name": "ipython",
    "version": 3
   },
   "file_extension": ".py",
   "mimetype": "text/x-python",
   "name": "python",
   "nbconvert_exporter": "python",
   "pygments_lexer": "ipython3",
   "version": "3.5.1"
  }
 },
 "nbformat": 4,
 "nbformat_minor": 0
}
