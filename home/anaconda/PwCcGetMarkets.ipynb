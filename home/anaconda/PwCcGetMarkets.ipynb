{
 "cells": [
  {
   "cell_type": "code",
   "execution_count": 57,
   "metadata": {
    "collapsed": true,
    "scrolled": true
   },
   "outputs": [],
   "source": [
    "import requests\n",
    "import json\n",
    "import pandas as pd"
   ]
  },
  {
   "cell_type": "code",
   "execution_count": 58,
   "metadata": {},
   "outputs": [
    {
     "data": {
      "text/plain": [
       "<Response [200]>"
      ]
     },
     "execution_count": 58,
     "metadata": {},
     "output_type": "execute_result"
    }
   ],
   "source": [
    "path1 = 'https://min-api.cryptocompare.com/data/top/pairs?fsym=BTC&limit=100'\n",
    "#path1 = 'https://min-api.cryptocompare.com/data/top/pairs?fsym=USD&limit=100'\n",
    "#path1 = 'https://min-api.cryptocompare.com/data/top/pairs?fsym=ETH&limit=100'\n",
    "r = requests.get(path1)#.encode('utf-8')\n",
    "r\n",
    "#r.text"
   ]
  },
  {
   "cell_type": "code",
   "execution_count": 59,
   "metadata": {
    "collapsed": true,
    "scrolled": true
   },
   "outputs": [],
   "source": [
    "jsload = json.loads(r.text)#\n",
    "#jsloadcut = jsload['Data']\n",
    "#jsload['Data']"
   ]
  },
  {
   "cell_type": "code",
   "execution_count": 60,
   "metadata": {
    "collapsed": true
   },
   "outputs": [],
   "source": [
    "#1\n",
    "#df = pd.read_json(jsloadcut, typ='records', encoding='utf-8')\n",
    "#df"
   ]
  },
  {
   "cell_type": "code",
   "execution_count": 61,
   "metadata": {
    "collapsed": true,
    "scrolled": true
   },
   "outputs": [],
   "source": [
    "#df.to_csv('file.csv', sep='\\t', encoding='utf-8')"
   ]
  },
  {
   "cell_type": "code",
   "execution_count": 62,
   "metadata": {
    "scrolled": false
   },
   "outputs": [
    {
     "data": {
      "text/html": [
       "<div>\n",
       "<style>\n",
       "    .dataframe thead tr:only-child th {\n",
       "        text-align: right;\n",
       "    }\n",
       "\n",
       "    .dataframe thead th {\n",
       "        text-align: left;\n",
       "    }\n",
       "\n",
       "    .dataframe tbody tr th {\n",
       "        vertical-align: top;\n",
       "    }\n",
       "</style>\n",
       "<table border=\"1\" class=\"dataframe\">\n",
       "  <thead>\n",
       "    <tr style=\"text-align: right;\">\n",
       "      <th></th>\n",
       "      <th>0</th>\n",
       "      <th>1</th>\n",
       "      <th>2</th>\n",
       "      <th>3</th>\n",
       "      <th>4</th>\n",
       "      <th>5</th>\n",
       "      <th>6</th>\n",
       "      <th>7</th>\n",
       "      <th>8</th>\n",
       "      <th>9</th>\n",
       "      <th>10</th>\n",
       "      <th>11</th>\n",
       "      <th>12</th>\n",
       "      <th>13</th>\n",
       "      <th>14</th>\n",
       "      <th>15</th>\n",
       "      <th>16</th>\n",
       "      <th>17</th>\n",
       "      <th>18</th>\n",
       "    </tr>\n",
       "  </thead>\n",
       "  <tbody>\n",
       "    <tr>\n",
       "      <th>exchange</th>\n",
       "      <td>CCCAGG</td>\n",
       "      <td>CCCAGG</td>\n",
       "      <td>CCCAGG</td>\n",
       "      <td>CCCAGG</td>\n",
       "      <td>CCCAGG</td>\n",
       "      <td>CCCAGG</td>\n",
       "      <td>CCCAGG</td>\n",
       "      <td>CCCAGG</td>\n",
       "      <td>CCCAGG</td>\n",
       "      <td>CCCAGG</td>\n",
       "      <td>CCCAGG</td>\n",
       "      <td>CCCAGG</td>\n",
       "      <td>CCCAGG</td>\n",
       "      <td>CCCAGG</td>\n",
       "      <td>CCCAGG</td>\n",
       "      <td>CCCAGG</td>\n",
       "      <td>CCCAGG</td>\n",
       "      <td>CCCAGG</td>\n",
       "      <td>CCCAGG</td>\n",
       "    </tr>\n",
       "    <tr>\n",
       "      <th>fromSymbol</th>\n",
       "      <td>BTC</td>\n",
       "      <td>BTC</td>\n",
       "      <td>BTC</td>\n",
       "      <td>BTC</td>\n",
       "      <td>BTC</td>\n",
       "      <td>BTC</td>\n",
       "      <td>BTC</td>\n",
       "      <td>BTC</td>\n",
       "      <td>BTC</td>\n",
       "      <td>BTC</td>\n",
       "      <td>BTC</td>\n",
       "      <td>BTC</td>\n",
       "      <td>BTC</td>\n",
       "      <td>BTC</td>\n",
       "      <td>BTC</td>\n",
       "      <td>BTC</td>\n",
       "      <td>BTC</td>\n",
       "      <td>BTC</td>\n",
       "      <td>BTC</td>\n",
       "    </tr>\n",
       "    <tr>\n",
       "      <th>toSymbol</th>\n",
       "      <td>JPY</td>\n",
       "      <td>USD</td>\n",
       "      <td>USDT</td>\n",
       "      <td>EUR</td>\n",
       "      <td>KRW</td>\n",
       "      <td>VND</td>\n",
       "      <td>AIC</td>\n",
       "      <td>GBP</td>\n",
       "      <td>CAD</td>\n",
       "      <td>PLN</td>\n",
       "      <td>ZAR</td>\n",
       "      <td>AUD</td>\n",
       "      <td>RUB</td>\n",
       "      <td>THB</td>\n",
       "      <td>BRL</td>\n",
       "      <td>MXN</td>\n",
       "      <td>SGD</td>\n",
       "      <td>NGN</td>\n",
       "      <td>MYR</td>\n",
       "    </tr>\n",
       "    <tr>\n",
       "      <th>volume24h</th>\n",
       "      <td>294841</td>\n",
       "      <td>166016</td>\n",
       "      <td>81556.9</td>\n",
       "      <td>33026.1</td>\n",
       "      <td>27848.6</td>\n",
       "      <td>5436.59</td>\n",
       "      <td>5244.95</td>\n",
       "      <td>1847.69</td>\n",
       "      <td>1370.07</td>\n",
       "      <td>1141.9</td>\n",
       "      <td>960.575</td>\n",
       "      <td>864.81</td>\n",
       "      <td>654.661</td>\n",
       "      <td>530.745</td>\n",
       "      <td>463.986</td>\n",
       "      <td>346.477</td>\n",
       "      <td>171.375</td>\n",
       "      <td>144.72</td>\n",
       "      <td>113.262</td>\n",
       "    </tr>\n",
       "    <tr>\n",
       "      <th>volume24hTo</th>\n",
       "      <td>2.81183e+11</td>\n",
       "      <td>1.41255e+09</td>\n",
       "      <td>6.99224e+08</td>\n",
       "      <td>2.27219e+08</td>\n",
       "      <td>2.65251e+11</td>\n",
       "      <td>1.05108e+12</td>\n",
       "      <td>4.89075e+07</td>\n",
       "      <td>1.12881e+07</td>\n",
       "      <td>1.54475e+07</td>\n",
       "      <td>3.33123e+07</td>\n",
       "      <td>1.02156e+08</td>\n",
       "      <td>9.39851e+06</td>\n",
       "      <td>3.2314e+08</td>\n",
       "      <td>1.44759e+08</td>\n",
       "      <td>1.28205e+07</td>\n",
       "      <td>5.45147e+07</td>\n",
       "      <td>1.89869e+06</td>\n",
       "      <td>4.50166e+08</td>\n",
       "      <td>4.90693e+06</td>\n",
       "    </tr>\n",
       "  </tbody>\n",
       "</table>\n",
       "</div>"
      ],
      "text/plain": [
       "                      0            1            2            3            4   \\\n",
       "exchange          CCCAGG       CCCAGG       CCCAGG       CCCAGG       CCCAGG   \n",
       "fromSymbol           BTC          BTC          BTC          BTC          BTC   \n",
       "toSymbol             JPY          USD         USDT          EUR          KRW   \n",
       "volume24h         294841       166016      81556.9      33026.1      27848.6   \n",
       "volume24hTo  2.81183e+11  1.41255e+09  6.99224e+08  2.27219e+08  2.65251e+11   \n",
       "\n",
       "                      5            6            7            8            9   \\\n",
       "exchange          CCCAGG       CCCAGG       CCCAGG       CCCAGG       CCCAGG   \n",
       "fromSymbol           BTC          BTC          BTC          BTC          BTC   \n",
       "toSymbol             VND          AIC          GBP          CAD          PLN   \n",
       "volume24h        5436.59      5244.95      1847.69      1370.07       1141.9   \n",
       "volume24hTo  1.05108e+12  4.89075e+07  1.12881e+07  1.54475e+07  3.33123e+07   \n",
       "\n",
       "                      10           11          12           13           14  \\\n",
       "exchange          CCCAGG       CCCAGG      CCCAGG       CCCAGG       CCCAGG   \n",
       "fromSymbol           BTC          BTC         BTC          BTC          BTC   \n",
       "toSymbol             ZAR          AUD         RUB          THB          BRL   \n",
       "volume24h        960.575       864.81     654.661      530.745      463.986   \n",
       "volume24hTo  1.02156e+08  9.39851e+06  3.2314e+08  1.44759e+08  1.28205e+07   \n",
       "\n",
       "                      15           16           17           18  \n",
       "exchange          CCCAGG       CCCAGG       CCCAGG       CCCAGG  \n",
       "fromSymbol           BTC          BTC          BTC          BTC  \n",
       "toSymbol             MXN          SGD          NGN          MYR  \n",
       "volume24h        346.477      171.375       144.72      113.262  \n",
       "volume24hTo  5.45147e+07  1.89869e+06  4.50166e+08  4.90693e+06  "
      ]
     },
     "execution_count": 62,
     "metadata": {},
     "output_type": "execute_result"
    }
   ],
   "source": [
    "#df\n",
    "#df['Id']\n",
    "#df.head()\n",
    "#df.sort_values(by='Id')..T\n",
    "#df[df['Name'] == 'ACoin']\n",
    "#df[df['Id'] < 10].sort_values(by='Id')\n",
    "#[df['Status'] == 'OK']\n",
    "newdf = df.sort_values(by='volume24h', ascending=[False])\n",
    "#v24 = \n",
    "## newdf.head().plot.pie(newdf['volume24h'])\n",
    "newnewdf = newdf.head(19).T\n",
    "newnewdf"
   ]
  },
  {
   "cell_type": "code",
   "execution_count": 63,
   "metadata": {},
   "outputs": [
    {
     "data": {
      "text/plain": [
       "'0.00000573'"
      ]
     },
     "execution_count": 63,
     "metadata": {},
     "output_type": "execute_result"
    }
   ],
   "source": [
    "x = 5.73e-06\n",
    "'{:.8f}'.format(x)\n",
    "#y = float(x)\n",
    "#y.imag(10)"
   ]
  },
  {
   "cell_type": "code",
   "execution_count": 40,
   "metadata": {
    "collapsed": true
   },
   "outputs": [],
   "source": [
    "x = x*0.002"
   ]
  },
  {
   "cell_type": "code",
   "execution_count": 41,
   "metadata": {},
   "outputs": [
    {
     "data": {
      "text/plain": [
       "'0.0000000115'"
      ]
     },
     "execution_count": 41,
     "metadata": {},
     "output_type": "execute_result"
    }
   ],
   "source": [
    "'{:.10f}'.format(x)"
   ]
  },
  {
   "cell_type": "code",
   "execution_count": null,
   "metadata": {
    "collapsed": true
   },
   "outputs": [],
   "source": []
  }
 ],
 "metadata": {
  "kernelspec": {
   "display_name": "Python 3",
   "language": "python",
   "name": "python3"
  },
  "language_info": {
   "codemirror_mode": {
    "name": "ipython",
    "version": 3
   },
   "file_extension": ".py",
   "mimetype": "text/x-python",
   "name": "python",
   "nbconvert_exporter": "python",
   "pygments_lexer": "ipython3",
   "version": "3.6.1"
  }
 },
 "nbformat": 4,
 "nbformat_minor": 2
}
