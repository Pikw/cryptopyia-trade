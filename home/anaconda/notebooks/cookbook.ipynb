{
 "cells": [
  {
   "cell_type": "code",
   "execution_count": 1,
   "metadata": {
    "collapsed": false
   },
   "outputs": [
    {
     "ename": "SyntaxError",
     "evalue": "invalid syntax (<ipython-input-1-d534557d7638>, line 1)",
     "output_type": "error",
     "traceback": [
      "\u001b[1;36m  File \u001b[1;32m\"<ipython-input-1-d534557d7638>\"\u001b[1;36m, line \u001b[1;32m1\u001b[0m\n\u001b[1;33m    import urllib.parse urllib\u001b[0m\n\u001b[1;37m                             ^\u001b[0m\n\u001b[1;31mSyntaxError\u001b[0m\u001b[1;31m:\u001b[0m invalid syntax\n"
     ]
    }
   ],
   "source": [
    "import urllib.parse urllib\n",
    "import json as m_json\n",
    "\n",
    "from pip._vendor.distlib.compat import raw_input\n",
    "\n",
    "query = raw_input ( 'Query: ' )\n",
    "query = urllib.parse.urlencode ( { 'q' : query } )\n",
    "response = urllib.request.urlopen ( 'http://ajax.googleapis.com/ajax/services/search/web?v=1.0&' + query ).read()\n",
    "json = m_json.loads ( response )\n",
    "results = json [ 'responseData' ] [ 'results' ]\n",
    "for result in results:\n",
    "    title = result['title']\n",
    "    url = result['url']   # was URL in the original and that threw a name error exception\n",
    "    print ( title + '; ' + url )\n",
    "\n",
    "\n",
    "\n",
    "\n",
    "\n",
    "\n",
    "\n",
    "\n",
    "\n"
   ]
  },
  {
   "cell_type": "code",
   "execution_count": null,
   "metadata": {
    "collapsed": true
   },
   "outputs": [],
   "source": [
    "s"
   ]
  }
 ],
 "metadata": {
  "kernelspec": {
   "display_name": "Python 3",
   "language": "python",
   "name": "python3"
  },
  "language_info": {
   "codemirror_mode": {
    "name": "ipython",
    "version": 3
   },
   "file_extension": ".py",
   "mimetype": "text/x-python",
   "name": "python",
   "nbconvert_exporter": "python",
   "pygments_lexer": "ipython3",
   "version": "3.5.1"
  }
 },
 "nbformat": 4,
 "nbformat_minor": 0
}
