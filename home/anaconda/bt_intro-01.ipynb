{
 "cells": [
  {
   "cell_type": "markdown",
   "metadata": {
    "collapsed": true
   },
   "source": [
    "# Пакет bt для тестирования торговых систем на языке Python"
   ]
  },
  {
   "cell_type": "markdown",
   "metadata": {
    "collapsed": true
   },
   "source": [
    "Проверялось в Python 2.7."
   ]
  },
  {
   "cell_type": "markdown",
   "metadata": {},
   "source": [
    "## Установка пакета bt\n",
    "\n",
    "Для установки пакета `bt` в системе Linux/Ubuntu достаточно выполнить в командной строке::\n",
    "\n",
    "    sudo pip install bt\n",
    "\n",
    "Для системы Windows ``sudo`` опускаем.\n",
    "\n",
    "Если лень открывать терминал с командной строкой, то можно выполнить установку прямо на странице IPython Notebook::\n",
    "\n",
    "    !pip install bt\n",
    "\t\n",
    "Вместе с пакетом `bt` будет установлен также `ffn`."
   ]
  },
  {
   "cell_type": "markdown",
   "metadata": {},
   "source": [
    "# Для установки пакета:\n",
    "!pip install bt"
   ]
  },
  {
   "cell_type": "code",
   "execution_count": null,
   "metadata": {
    "collapsed": true
   },
   "outputs": [],
   "source": [
    "# Чтобы графики выводились внутри страницы:\n",
    "%matplotlib inline"
   ]
  },
  {
   "cell_type": "markdown",
   "metadata": {},
   "source": [
    "## Загрузка котировок\n",
    "\n",
    "В пакете `bt` имеется собственная функция для загрузки котировок с сайта Yahoo Finance. Для примера скачаем цены закрытия (adjusted close) двух биржевых фондов (ETF): `GDX` и `SPY`: "
   ]
  },
  {
   "cell_type": "code",
   "execution_count": null,
   "metadata": {},
   "outputs": [],
   "source": [
    "import bt\n",
    "data = bt.get('snp', start='2016-01-01')\n",
    "data"
   ]
  },
  {
   "cell_type": "code",
   "execution_count": null,
   "metadata": {},
   "outputs": [],
   "source": [
    "print (data.head(3)) # Вывели первые 3 записи для проверки."
   ]
  },
  {
   "cell_type": "markdown",
   "metadata": {},
   "source": [
    "## Класс Strategy\n",
    "\n",
    "Для тестирования торговой системы надо сначала создать экземпляр класса `Strategy`, в котором задать нужную комбинацию алгоритмов ([`algos`](http://pmorissette.github.io/bt/algos.html)). Алгоритмы указывают, как выбирать бумаги для покупки и продажи, и в каких пропорциях распределять имеющиеся средства между бумагами (т.е. способ вычисления весовых коэффициентов)."
   ]
  },
  {
   "cell_type": "code",
   "execution_count": null,
   "metadata": {
    "collapsed": true
   },
   "outputs": [],
   "source": [
    "s1 = bt.Strategy('s1', [bt.algos.RunMonthly(),  # Выполняем ежемесячно;\n",
    "                       bt.algos.SelectAll(),    # выбираем все бумаги;\n",
    "                       bt.algos.WeighEqually(), # в равной пропорции;\n",
    "                       bt.algos.Rebalance()])   # выполняем ребалансировку согласно выбранной пропорции."
   ]
  },
  {
   "cell_type": "markdown",
   "metadata": {},
   "source": [
    "Здесь мы указали, что будем проводить ежемесячную (`RunMonthly`) ребалансировку (`Rebalance`) портфеля, распределяя все имеющиеся средства поровну (`WeighEqually`) между всеми выбранными бумагами (`SelectAll`).\n"
   ]
  },
  {
   "cell_type": "markdown",
   "metadata": {},
   "source": [
    "Усложним стратегию. Будем проводить еженедельную ребалансировку (`RunWeekly`), а весовые коэффициенты для каждой бумаги рассчитывать обратно пропорционально волатильности (`WeighInvVol`):"
   ]
  },
  {
   "cell_type": "code",
   "execution_count": null,
   "metadata": {
    "collapsed": true
   },
   "outputs": [],
   "source": [
    "s2 = bt.Strategy('s2', [bt.algos.RunWeekly(),   # Еженедельно;\n",
    "                        bt.algos.SelectAll(),   # выбираем все бумаги;\n",
    "                        bt.algos.WeighInvVol(), # обратно пропорционально волатильности;\n",
    "                        bt.algos.Rebalance()])  # выполняем ребалансировку согласно весовым коэффициентам."
   ]
  },
  {
   "cell_type": "markdown",
   "metadata": {},
   "source": [
    "Теперь проверим классическую стратегию торговли по скользящей средней: \n",
    "будем покупать только те бумаги, которые выше своей 250-дневной скользящей средней. \n",
    "Для выбора бумаг по заданному условию используем встроенный алгоритм `SelectWhere`:"
   ]
  },
  {
   "cell_type": "code",
   "execution_count": null,
   "metadata": {},
   "outputs": [],
   "source": [
    "import pandas as pd\n",
    "#sma1 = pd.rolling_mean(data, 250) # Простая скользящая средняя.\n",
    "sma1 = pd.rolling(data, 250).mean()\n",
    "s3 = bt.Strategy('SMA1', [ \n",
    "         bt.algos.SelectWhere(data > sma1), # Выбираем только те бумаги, которые выше скользящей средней;\n",
    "         bt.algos.WeighEqually(),           # делим средства в равной попорции.  \n",
    "         bt.algos.Rebalance()] )"
   ]
  },
  {
   "cell_type": "markdown",
   "metadata": {},
   "source": [
    "Результаты торговли по любой системе обычно сравнивают с каким-нибудь *бенчмарком*. Часто в качестве бенчмарка выбирают стратегию \"купи и держи\" (buy & hold):"
   ]
  },
  {
   "cell_type": "code",
   "execution_count": null,
   "metadata": {
    "collapsed": true
   },
   "outputs": [],
   "source": [
    "s0 = bt.Strategy('bh', [bt.algos.RunOnce(),       # Только один раз;\n",
    "                        bt.algos.SelectAll(),     # выбираем все бумаги;\n",
    "                        bt.algos.WeighEqually(),  # в равной пропорции.\n",
    "                        bt.algos.Rebalance()])"
   ]
  },
  {
   "cell_type": "markdown",
   "metadata": {},
   "source": [
    "Итак, мы определили четыре торговые стратегии. Пора их протестировать."
   ]
  },
  {
   "cell_type": "markdown",
   "metadata": {},
   "source": [
    "## Тестирование торговых стратегий"
   ]
  },
  {
   "cell_type": "markdown",
   "metadata": {},
   "source": [
    "Перед запуском теста надо создать экземпляр класса `Backtest`, \n",
    "указав стратегию и данные для тестирования, после чего можно запустить тест на выполнение:"
   ]
  },
  {
   "cell_type": "code",
   "execution_count": null,
   "metadata": {},
   "outputs": [],
   "source": [
    "test1 = bt.Backtest(s1, data)\n",
    "res1 = bt.run(test1)"
   ]
  },
  {
   "cell_type": "markdown",
   "metadata": {},
   "source": [
    "Результат можно отобразить в виде графика эквити:"
   ]
  },
  {
   "cell_type": "code",
   "execution_count": null,
   "metadata": {},
   "outputs": [],
   "source": [
    "res1.plot()"
   ]
  },
  {
   "cell_type": "markdown",
   "metadata": {},
   "source": [
    "Таблица результатов:"
   ]
  },
  {
   "cell_type": "code",
   "execution_count": null,
   "metadata": {},
   "outputs": [],
   "source": [
    "res1.display()"
   ]
  },
  {
   "cell_type": "markdown",
   "metadata": {},
   "source": [
    "Гистограмма распределения прибылей/убытков (return):"
   ]
  },
  {
   "cell_type": "code",
   "execution_count": null,
   "metadata": {},
   "outputs": [],
   "source": [
    "res1.plot_histogram()"
   ]
  },
  {
   "cell_type": "markdown",
   "metadata": {},
   "source": [
    "Весовые коэффициенты для каждой бумаги:"
   ]
  },
  {
   "cell_type": "code",
   "execution_count": null,
   "metadata": {},
   "outputs": [],
   "source": [
    "res1.plot_security_weights()"
   ]
  },
  {
   "cell_type": "markdown",
   "metadata": {},
   "source": [
    "Можно запустить тест сразу для нескольких стратегий:"
   ]
  },
  {
   "cell_type": "code",
   "execution_count": null,
   "metadata": {},
   "outputs": [],
   "source": [
    "test0 = bt.Backtest(s0, data)\n",
    "test1 = bt.Backtest(s1, data)\n",
    "test2 = bt.Backtest(s2, data)\n",
    "test3 = bt.Backtest(s3, data)\n",
    "res = bt.run(test1, test2, test3, test0) # Запустили четыре теста для последующего сравнения.\n",
    "res.plot()"
   ]
  },
  {
   "cell_type": "markdown",
   "metadata": {},
   "source": [
    "Сравним результаты тестирования всех четырёх стратегий: "
   ]
  },
  {
   "cell_type": "code",
   "execution_count": null,
   "metadata": {},
   "outputs": [],
   "source": [
    "res.display()"
   ]
  },
  {
   "cell_type": "markdown",
   "metadata": {},
   "source": [
    "## Построение графиков\n",
    "\n",
    "Отобразим на графике скользящую среднюю:"
   ]
  },
  {
   "cell_type": "code",
   "execution_count": null,
   "metadata": {},
   "outputs": [],
   "source": [
    "plot = bt.merge(data, sma1).plot(figsize=(17, 6)).legend(['GDX','SPY','GDX SMA', 'SPY SMA'], loc='upper left')"
   ]
  },
  {
   "cell_type": "markdown",
   "metadata": {},
   "source": [
    "При построении графика можно указать имя какой-то одной стратегии:"
   ]
  },
  {
   "cell_type": "code",
   "execution_count": null,
   "metadata": {},
   "outputs": [],
   "source": [
    "res.plot_security_weights('SMA1')"
   ]
  },
  {
   "cell_type": "markdown",
   "metadata": {},
   "source": [
    "## Оптимизация\n",
    "\n",
    "Теперь проверим, какие будут результаты при различных значениях периода скользящей средней. Для этого оформим код стратегии в виде функции:"
   ]
  },
  {
   "cell_type": "code",
   "execution_count": null,
   "metadata": {
    "collapsed": true
   },
   "outputs": [],
   "source": [
    "def above_sma(tickers, period=250, start='2010-01-01', name='above_sma'):\n",
    "    \"\"\"\n",
    "    Покупаем бумагу, если она выше скользящей средней.\n",
    "    \"\"\"\n",
    "    data = bt.get(tickers, start=start)\n",
    "    sma1 = pd.rolling_mean(data, period)\n",
    "    s = bt.Strategy(name, [bt.algos.SelectWhere(data > sma1),\n",
    "                           bt.algos.WeighEqually(),\n",
    "                           bt.algos.Rebalance()])\n",
    "    return bt.Backtest(s, data)"
   ]
  },
  {
   "cell_type": "markdown",
   "metadata": {},
   "source": [
    "Также определим отдельную функцию для *бенчмарка* -- \n",
    "стратегии \"купи и держи\" (buy & hold), с которой будем сравнивать результаты всех остальных стратегий:"
   ]
  },
  {
   "cell_type": "code",
   "execution_count": null,
   "metadata": {
    "collapsed": true
   },
   "outputs": [],
   "source": [
    "def bh(tickers, start='2010-01-01', name='buy&hold'):\n",
    "    s = bt.Strategy(name, [bt.algos.RunOnce(),       # Только один раз;\n",
    "                           bt.algos.SelectAll(),     # выбираем все бумаги;\n",
    "                           bt.algos.WeighEqually(),  # в равной пропорции.\n",
    "                           bt.algos.Rebalance()])\n",
    "    data = bt.get(tickers, start=start)  # Получаем котировки.\n",
    "    return bt.Backtest(s, data)          # Запускаем тестирование и возвращаем результат."
   ]
  },
  {
   "cell_type": "markdown",
   "metadata": {},
   "source": [
    "Всё готово для того, чтобы задать бумаги для торговли и выполнить тестирование для разных значений периода скользящей средней:"
   ]
  },
  {
   "cell_type": "code",
   "execution_count": null,
   "metadata": {},
   "outputs": [],
   "source": [
    "# Бумаги для торговли:\n",
    "tickers = 'aapl,msft,c,gs,ge'\n",
    "\n",
    "# Тесты с разными значениями периода скользящей средней:\n",
    "sma1 = above_sma(tickers, period=10, name='sma10')\n",
    "sma2 = above_sma(tickers, period=20, name='sma20')\n",
    "sma3 = above_sma(tickers, period=50, name='sma50')\n",
    "sma4 = above_sma(tickers, period=100, name='sma100')\n",
    "sma5 = above_sma(tickers, period=150, name='sma150')\n",
    "sma6 = above_sma(tickers, period=200, name='sma200')\n",
    "\n",
    "# Бенчмарк:\n",
    "benchmark = bh('spy', name='bh_spy')\n",
    "\n",
    "# Выполняем все тесты:\n",
    "res = bt.run(sma1, sma2, sma3, sma4, sma5, sma6, benchmark)"
   ]
  },
  {
   "cell_type": "code",
   "execution_count": null,
   "metadata": {},
   "outputs": [],
   "source": [
    "res.plot()"
   ]
  },
  {
   "cell_type": "code",
   "execution_count": null,
   "metadata": {},
   "outputs": [],
   "source": [
    "res.display()"
   ]
  },
  {
   "cell_type": "markdown",
   "metadata": {},
   "source": [
    "Теперь мы можем выбрать период, при котором достигается наибольшее значение итоговой прибыли или, например, коэффициента Шарпа."
   ]
  },
  {
   "cell_type": "markdown",
   "metadata": {},
   "source": [
    "## Пересечение двух скользящих средних\n",
    "\n",
    "Наконец, протестируем классическую торговую систему с двумя скользящими средними, имеющими разный период. Будем покупать, когда быстрая скользящая средняя пересекает медленную снизу вверх, и продавать при обратном пересечении."
   ]
  },
  {
   "cell_type": "code",
   "execution_count": null,
   "metadata": {
    "collapsed": true
   },
   "outputs": [],
   "source": [
    "data = bt.get('spy', start='2010-01-01')\n",
    "sma1 = pd.rolling_mean(data, 50)   # Быстрая скользящая средняя.\n",
    "sma2 = pd.rolling_mean(data, 150)  # Медленная скользящая средняя.\n",
    "tw = sma2.copy()             # Создали новую колонку копированием.\n",
    "tw[sma1 > sma2] = 1.0        # Весовой коэффициент для покупки.\n",
    "tw[sma1 <= sma2] = -1.0      # Весовой коэффициент для короткой продажи.\n",
    "tw[sma2.isnull()] = 0.0  # Первые значения, когда скользящая средняя не определена."
   ]
  },
  {
   "cell_type": "code",
   "execution_count": null,
   "metadata": {},
   "outputs": [],
   "source": [
    "tmp = bt.merge(tw, data, sma1, sma2)                # Соединили колонки.\n",
    "tmp.columns = ['tw', 'price', 'sma1', 'sma2']       # Имена колонок.\n",
    "ax = tmp.plot(figsize=(15,5), secondary_y=['tw'])   # График."
   ]
  },
  {
   "cell_type": "markdown",
   "metadata": {},
   "source": [
    "Значения из колонки весовых коэффициентов `tw` отображены на графике синей линией; соответствующая шкала для вертикальной оси расположена справа. Шкала для остальных значений (цены и скользящих средних) нанесена слева."
   ]
  },
  {
   "cell_type": "code",
   "execution_count": null,
   "metadata": {
    "collapsed": true
   },
   "outputs": [],
   "source": [
    "ma_cross = bt.Strategy('ma_cross', [bt.algos.WeighTarget(tw),\n",
    "                                    bt.algos.Rebalance()])\n",
    "t = bt.Backtest(ma_cross, data)\n",
    "res = bt.run(t)"
   ]
  },
  {
   "cell_type": "code",
   "execution_count": null,
   "metadata": {},
   "outputs": [],
   "source": [
    "res.plot()"
   ]
  },
  {
   "cell_type": "code",
   "execution_count": null,
   "metadata": {},
   "outputs": [],
   "source": [
    "res.display()"
   ]
  },
  {
   "cell_type": "markdown",
   "metadata": {},
   "source": [
    "См. http://profitraders.com/Python/btIntro.html"
   ]
  }
 ],
 "metadata": {
  "kernelspec": {
   "display_name": "Python 3",
   "language": "python",
   "name": "python3"
  },
  "language_info": {
   "codemirror_mode": {
    "name": "ipython",
    "version": 3
   },
   "file_extension": ".py",
   "mimetype": "text/x-python",
   "name": "python",
   "nbconvert_exporter": "python",
   "pygments_lexer": "ipython3",
   "version": "3.6.1"
  }
 },
 "nbformat": 4,
 "nbformat_minor": 1
}
