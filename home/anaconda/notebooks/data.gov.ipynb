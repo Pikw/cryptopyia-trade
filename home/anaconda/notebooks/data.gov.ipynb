{
 "cells": [
  {
   "cell_type": "markdown",
   "metadata": {},
   "source": [
    "http://data.gov.ru/\n",
    "\n",
    "https://torgi.gov.ru/opendata/recommendation.html \n",
    "\n",
    "allLotsSearch.html\n",
    "lotSearch1.html?bidKindId=[1-17]\n",
    "\n",
    "dial\n",
    "inn 7703735139\n",
    "link http://zakupki.gov.ru/epz/order/extendedsearch/results.html?searchString=&morphology=on&openMode=USE_DEFAULT_PARAMS&pageNumber=1&sortDirection=false&recordsPerPage=_10&showLotsInfoHidden=false&fz44=on&fz223=on&fz94=on&orderNumber=&placingWaysList=&placingWaysList223=&priceFrom=&priceTo=&currencyId=1&participantName=7703735139&publishDateFrom=&publishDateTo=&updateDateFrom=&updateDateTo=&customerTitle=&customerCode=&customerFz94id=&customerFz223id=&customerInn=&agencyTitle=&agencyCode=&agencyFz94id=&agencyFz223id=&agencyInn=&districts=&regions=&af=on&ca=on&pc=on&pa=on&deliveryAddress=&orderIKZInputNameYear=&orderIKZInputNameIkz=&orderIKZInputNameNumPZ=&orderIKZInputNameNumPGZ=&orderIKZInputNameOkpd2=&orderIKZInputNameKvr=&sortBy=UPDATE_DATE"
   ]
  },
  {
   "cell_type": "code",
   "execution_count": 1,
   "metadata": {
    "collapsed": true
   },
   "outputs": [],
   "source": [
    "from selenium import webdriver"
   ]
  },
  {
   "cell_type": "code",
   "execution_count": 4,
   "metadata": {
    "collapsed": true
   },
   "outputs": [],
   "source": [
    "import urllib.request\n",
    "import urllib.error\n",
    "from bs4 import BeautifulSoup\n",
    "\n",
    "def GetURL(url):\n",
    "    s = 'error'\n",
    "    try:\n",
    "        s = urllib.request.urlopen(url)\n",
    "#          s = f.read().decode('utf-8')\n",
    "    except urllib.error.HTTPError:\n",
    "        s = 'connect error'\n",
    "    except urllib.error.URLError:\n",
    "        s = 'url error'\n",
    "    return s\n",
    "\n",
    "if __name__ == '__main__':\n",
    "    \n",
    "    url = 'https://torgi.gov.ru/lotSearch1.html?bidKindId=13'\n",
    "    \n",
    "    page = GetURL(url)\n",
    "    \n",
    "    soup = BeautifulSoup(page, 'html.parser')\n"
   ]
  },
  {
   "cell_type": "code",
   "execution_count": 5,
   "metadata": {
    "collapsed": false
   },
   "outputs": [
    {
     "name": "stdout",
     "output_type": "stream",
     "text": [
      "116\n",
      "http://torgi.gov.ru/registrationNew.html\n",
      "http://torgi.gov.ru/restricted/\n",
      "index.html;jsessionid=XfFaJk34-t5_ZIUIw3fFXRV4uxWU1KVStUw592bSIVLMpXJyNvNU!-1846691649!2118459043\n",
      "#\n",
      "index.html;jsessionid=XfFaJk34-t5_ZIUIw3fFXRV4uxWU1KVStUw592bSIVLMpXJyNvNU!-1846691649!2118459043\n",
      "#\n",
      "lotSearch1.html;jsessionid=XfFaJk34-t5_ZIUIw3fFXRV4uxWU1KVStUw592bSIVLMpXJyNvNU!-1846691649!2118459043?bidKindId=1\n",
      "lotSearch1.html;jsessionid=XfFaJk34-t5_ZIUIw3fFXRV4uxWU1KVStUw592bSIVLMpXJyNvNU!-1846691649!2118459043?bidKindId=8\n",
      "lotSearch1.html;jsessionid=XfFaJk34-t5_ZIUIw3fFXRV4uxWU1KVStUw592bSIVLMpXJyNvNU!-1846691649!2118459043?bidKindId=9\n",
      "lotSearch1.html;jsessionid=XfFaJk34-t5_ZIUIw3fFXRV4uxWU1KVStUw592bSIVLMpXJyNvNU!-1846691649!2118459043?bidKindId=2\n",
      "lotSearch1.html;jsessionid=XfFaJk34-t5_ZIUIw3fFXRV4uxWU1KVStUw592bSIVLMpXJyNvNU!-1846691649!2118459043?bidKindId=3\n",
      "lotSearch1.html;jsessionid=XfFaJk34-t5_ZIUIw3fFXRV4uxWU1KVStUw592bSIVLMpXJyNvNU!-1846691649!2118459043?bidKindId=4\n",
      "lotSearch1.html;jsessionid=XfFaJk34-t5_ZIUIw3fFXRV4uxWU1KVStUw592bSIVLMpXJyNvNU!-1846691649!2118459043?bidKindId=7\n",
      "lotSearch1.html;jsessionid=XfFaJk34-t5_ZIUIw3fFXRV4uxWU1KVStUw592bSIVLMpXJyNvNU!-1846691649!2118459043?bidKindId=5\n",
      "lotSearch1.html;jsessionid=XfFaJk34-t5_ZIUIw3fFXRV4uxWU1KVStUw592bSIVLMpXJyNvNU!-1846691649!2118459043?bidKindId=10\n",
      "lotSearch1.html;jsessionid=XfFaJk34-t5_ZIUIw3fFXRV4uxWU1KVStUw592bSIVLMpXJyNvNU!-1846691649!2118459043?bidKindId=11\n",
      "lotSearch1.html;jsessionid=XfFaJk34-t5_ZIUIw3fFXRV4uxWU1KVStUw592bSIVLMpXJyNvNU!-1846691649!2118459043?bidKindId=12\n",
      "lotSearch1.html;jsessionid=XfFaJk34-t5_ZIUIw3fFXRV4uxWU1KVStUw592bSIVLMpXJyNvNU!-1846691649!2118459043?bidKindId=13\n",
      "lotSearch1.html;jsessionid=XfFaJk34-t5_ZIUIw3fFXRV4uxWU1KVStUw592bSIVLMpXJyNvNU!-1846691649!2118459043?bidKindId=6\n",
      "lotSearch1.html;jsessionid=XfFaJk34-t5_ZIUIw3fFXRV4uxWU1KVStUw592bSIVLMpXJyNvNU!-1846691649!2118459043?bidKindId=14\n",
      "lotSearch1.html;jsessionid=XfFaJk34-t5_ZIUIw3fFXRV4uxWU1KVStUw592bSIVLMpXJyNvNU!-1846691649!2118459043?bidKindId=15\n",
      "lotSearch1.html;jsessionid=XfFaJk34-t5_ZIUIw3fFXRV4uxWU1KVStUw592bSIVLMpXJyNvNU!-1846691649!2118459043?bidKindId=16\n",
      "lotSearch1.html;jsessionid=XfFaJk34-t5_ZIUIw3fFXRV4uxWU1KVStUw592bSIVLMpXJyNvNU!-1846691649!2118459043?bidKindId=17\n",
      "allLotsSearch.html;jsessionid=XfFaJk34-t5_ZIUIw3fFXRV4uxWU1KVStUw592bSIVLMpXJyNvNU!-1846691649!2118459043\n",
      "lawInfo.html;jsessionid=XfFaJk34-t5_ZIUIw3fFXRV4uxWU1KVStUw592bSIVLMpXJyNvNU!-1846691649!2118459043\n",
      "antimonopolyLawInfo.html;jsessionid=XfFaJk34-t5_ZIUIw3fFXRV4uxWU1KVStUw592bSIVLMpXJyNvNU!-1846691649!2118459043\n",
      "questInfo.html;jsessionid=XfFaJk34-t5_ZIUIw3fFXRV4uxWU1KVStUw592bSIVLMpXJyNvNU!-1846691649!2118459043\n",
      ";jsessionid=XfFaJk34-t5_ZIUIw3fFXRV4uxWU1KVStUw592bSIVLMpXJyNvNU!-1846691649!2118459043?wicket:interface=:0:menu:blockAnonymous:forumLink::ILinkListener::\n",
      "subscribtion/subscribtionInfo.html;jsessionid=XfFaJk34-t5_ZIUIw3fFXRV4uxWU1KVStUw592bSIVLMpXJyNvNU!-1846691649!2118459043\n",
      "opendata/index.html;jsessionid=XfFaJk34-t5_ZIUIw3fFXRV4uxWU1KVStUw592bSIVLMpXJyNvNU!-1846691649!2118459043\n",
      "index.html;jsessionid=XfFaJk34-t5_ZIUIw3fFXRV4uxWU1KVStUw592bSIVLMpXJyNvNU!-1846691649!2118459043\n",
      "lotSearch1.html?bidKindId=13\n",
      "lotSearch1.html;jsessionid=XfFaJk34-t5_ZIUIw3fFXRV4uxWU1KVStUw592bSIVLMpXJyNvNU!-1846691649!2118459043?bidKindId=1\n",
      "lotSearch1.html;jsessionid=XfFaJk34-t5_ZIUIw3fFXRV4uxWU1KVStUw592bSIVLMpXJyNvNU!-1846691649!2118459043?bidKindId=8\n",
      "lotSearch1.html;jsessionid=XfFaJk34-t5_ZIUIw3fFXRV4uxWU1KVStUw592bSIVLMpXJyNvNU!-1846691649!2118459043?bidKindId=9\n",
      "lotSearch1.html;jsessionid=XfFaJk34-t5_ZIUIw3fFXRV4uxWU1KVStUw592bSIVLMpXJyNvNU!-1846691649!2118459043?bidKindId=2\n",
      "lotSearch1.html;jsessionid=XfFaJk34-t5_ZIUIw3fFXRV4uxWU1KVStUw592bSIVLMpXJyNvNU!-1846691649!2118459043?bidKindId=3\n",
      "lotSearch1.html;jsessionid=XfFaJk34-t5_ZIUIw3fFXRV4uxWU1KVStUw592bSIVLMpXJyNvNU!-1846691649!2118459043?bidKindId=4\n",
      "lotSearch1.html;jsessionid=XfFaJk34-t5_ZIUIw3fFXRV4uxWU1KVStUw592bSIVLMpXJyNvNU!-1846691649!2118459043?bidKindId=7\n",
      "lotSearch1.html;jsessionid=XfFaJk34-t5_ZIUIw3fFXRV4uxWU1KVStUw592bSIVLMpXJyNvNU!-1846691649!2118459043?bidKindId=5\n",
      "lotSearch1.html;jsessionid=XfFaJk34-t5_ZIUIw3fFXRV4uxWU1KVStUw592bSIVLMpXJyNvNU!-1846691649!2118459043?bidKindId=10\n",
      "lotSearch1.html;jsessionid=XfFaJk34-t5_ZIUIw3fFXRV4uxWU1KVStUw592bSIVLMpXJyNvNU!-1846691649!2118459043?bidKindId=11\n",
      "lotSearch1.html;jsessionid=XfFaJk34-t5_ZIUIw3fFXRV4uxWU1KVStUw592bSIVLMpXJyNvNU!-1846691649!2118459043?bidKindId=12\n",
      "lotSearch1.html;jsessionid=XfFaJk34-t5_ZIUIw3fFXRV4uxWU1KVStUw592bSIVLMpXJyNvNU!-1846691649!2118459043?bidKindId=13\n",
      "lotSearch1.html;jsessionid=XfFaJk34-t5_ZIUIw3fFXRV4uxWU1KVStUw592bSIVLMpXJyNvNU!-1846691649!2118459043?bidKindId=6\n",
      "lotSearch1.html;jsessionid=XfFaJk34-t5_ZIUIw3fFXRV4uxWU1KVStUw592bSIVLMpXJyNvNU!-1846691649!2118459043?bidKindId=14\n",
      "lotSearch1.html;jsessionid=XfFaJk34-t5_ZIUIw3fFXRV4uxWU1KVStUw592bSIVLMpXJyNvNU!-1846691649!2118459043?bidKindId=15\n",
      "lotSearch1.html;jsessionid=XfFaJk34-t5_ZIUIw3fFXRV4uxWU1KVStUw592bSIVLMpXJyNvNU!-1846691649!2118459043?bidKindId=16\n",
      "lotSearch1.html;jsessionid=XfFaJk34-t5_ZIUIw3fFXRV4uxWU1KVStUw592bSIVLMpXJyNvNU!-1846691649!2118459043?bidKindId=17\n",
      "lotSearch2.html;jsessionid=XfFaJk34-t5_ZIUIw3fFXRV4uxWU1KVStUw592bSIVLMpXJyNvNU!-1846691649!2118459043\n",
      "lotSearch3.html;jsessionid=XfFaJk34-t5_ZIUIw3fFXRV4uxWU1KVStUw592bSIVLMpXJyNvNU!-1846691649!2118459043\n",
      "lotSearch4.html;jsessionid=XfFaJk34-t5_ZIUIw3fFXRV4uxWU1KVStUw592bSIVLMpXJyNvNU!-1846691649!2118459043\n",
      "lotSearch5.html;jsessionid=XfFaJk34-t5_ZIUIw3fFXRV4uxWU1KVStUw592bSIVLMpXJyNvNU!-1846691649!2118459043\n",
      "lotSearch6.html;jsessionid=XfFaJk34-t5_ZIUIw3fFXRV4uxWU1KVStUw592bSIVLMpXJyNvNU!-1846691649!2118459043\n",
      "lotSearchArchive.html;jsessionid=XfFaJk34-t5_ZIUIw3fFXRV4uxWU1KVStUw592bSIVLMpXJyNvNU!-1846691649!2118459043\n",
      "complaintList.html;jsessionid=XfFaJk34-t5_ZIUIw3fFXRV4uxWU1KVStUw592bSIVLMpXJyNvNU!-1846691649!2118459043?bidKindId=13&prevPageN=0\n",
      "#\n",
      "#\n",
      "reglament.html;jsessionid=XfFaJk34-t5_ZIUIw3fFXRV4uxWU1KVStUw592bSIVLMpXJyNvNU!-1846691649!2118459043\n",
      "regionSites.html;jsessionid=XfFaJk34-t5_ZIUIw3fFXRV4uxWU1KVStUw592bSIVLMpXJyNvNU!-1846691649!2118459043\n",
      "instruction.html;jsessionid=XfFaJk34-t5_ZIUIw3fFXRV4uxWU1KVStUw592bSIVLMpXJyNvNU!-1846691649!2118459043\n",
      "bidOrgInstruction.html;jsessionid=XfFaJk34-t5_ZIUIw3fFXRV4uxWU1KVStUw592bSIVLMpXJyNvNU!-1846691649!2118459043\n",
      "trainingMaterials.html;jsessionid=XfFaJk34-t5_ZIUIw3fFXRV4uxWU1KVStUw592bSIVLMpXJyNvNU!-1846691649!2118459043\n",
      "contacts.html;jsessionid=XfFaJk34-t5_ZIUIw3fFXRV4uxWU1KVStUw592bSIVLMpXJyNvNU!-1846691649!2118459043\n",
      "#\n",
      "#\n",
      "#\n",
      "#\n",
      "#\n",
      "#\n",
      ";jsessionid=XfFaJk34-t5_ZIUIw3fFXRV4uxWU1KVStUw592bSIVLMpXJyNvNU!-1846691649!2118459043?wicket:interface=:0:search_panel:resultTable:list:topToolbars:1:toolbar:headers:2:header:orderByLink::ILinkListener::\n",
      ";jsessionid=XfFaJk34-t5_ZIUIw3fFXRV4uxWU1KVStUw592bSIVLMpXJyNvNU!-1846691649!2118459043?wicket:interface=:0:search_panel:resultTable:list:topToolbars:1:toolbar:headers:3:header:orderByLink::ILinkListener::\n",
      ";jsessionid=XfFaJk34-t5_ZIUIw3fFXRV4uxWU1KVStUw592bSIVLMpXJyNvNU!-1846691649!2118459043?wicket:interface=:0:search_panel:resultTable:list:topToolbars:1:toolbar:headers:4:header:orderByLink::ILinkListener::\n",
      ";jsessionid=XfFaJk34-t5_ZIUIw3fFXRV4uxWU1KVStUw592bSIVLMpXJyNvNU!-1846691649!2118459043?wicket:interface=:0:search_panel:resultTable:list:topToolbars:1:toolbar:headers:5:header:orderByLink::ILinkListener::\n",
      ";jsessionid=XfFaJk34-t5_ZIUIw3fFXRV4uxWU1KVStUw592bSIVLMpXJyNvNU!-1846691649!2118459043?wicket:interface=:0:search_panel:resultTable:list:bottomToolbars:2:toolbar:span:navigator:navigation:1:pageLink::ILinkListener::\n",
      ";jsessionid=XfFaJk34-t5_ZIUIw3fFXRV4uxWU1KVStUw592bSIVLMpXJyNvNU!-1846691649!2118459043?wicket:interface=:0:search_panel:resultTable:list:bottomToolbars:2:toolbar:span:navigator:navigation:2:pageLink::ILinkListener::\n",
      ";jsessionid=XfFaJk34-t5_ZIUIw3fFXRV4uxWU1KVStUw592bSIVLMpXJyNvNU!-1846691649!2118459043?wicket:interface=:0:search_panel:resultTable:list:bottomToolbars:2:toolbar:span:navigator:navigation:3:pageLink::ILinkListener::\n",
      ";jsessionid=XfFaJk34-t5_ZIUIw3fFXRV4uxWU1KVStUw592bSIVLMpXJyNvNU!-1846691649!2118459043?wicket:interface=:0:search_panel:resultTable:list:bottomToolbars:2:toolbar:span:navigator:navigation:4:pageLink::ILinkListener::\n",
      ";jsessionid=XfFaJk34-t5_ZIUIw3fFXRV4uxWU1KVStUw592bSIVLMpXJyNvNU!-1846691649!2118459043?wicket:interface=:0:search_panel:resultTable:list:bottomToolbars:2:toolbar:span:navigator:navigation:5:pageLink::ILinkListener::\n",
      ";jsessionid=XfFaJk34-t5_ZIUIw3fFXRV4uxWU1KVStUw592bSIVLMpXJyNvNU!-1846691649!2118459043?wicket:interface=:0:search_panel:resultTable:list:bottomToolbars:2:toolbar:span:navigator:navigation:6:pageLink::ILinkListener::\n",
      ";jsessionid=XfFaJk34-t5_ZIUIw3fFXRV4uxWU1KVStUw592bSIVLMpXJyNvNU!-1846691649!2118459043?wicket:interface=:0:search_panel:resultTable:list:bottomToolbars:2:toolbar:span:navigator:navigation:7:pageLink::ILinkListener::\n",
      ";jsessionid=XfFaJk34-t5_ZIUIw3fFXRV4uxWU1KVStUw592bSIVLMpXJyNvNU!-1846691649!2118459043?wicket:interface=:0:search_panel:resultTable:list:bottomToolbars:2:toolbar:span:navigator:navigation:8:pageLink::ILinkListener::\n",
      ";jsessionid=XfFaJk34-t5_ZIUIw3fFXRV4uxWU1KVStUw592bSIVLMpXJyNvNU!-1846691649!2118459043?wicket:interface=:0:search_panel:resultTable:list:bottomToolbars:2:toolbar:span:navigator:navigation:9:pageLink::ILinkListener::\n",
      ";jsessionid=XfFaJk34-t5_ZIUIw3fFXRV4uxWU1KVStUw592bSIVLMpXJyNvNU!-1846691649!2118459043?wicket:interface=:0:search_panel:resultTable:list:bottomToolbars:2:toolbar:span:navigator:last::ILinkListener::\n",
      ";jsessionid=XfFaJk34-t5_ZIUIw3fFXRV4uxWU1KVStUw592bSIVLMpXJyNvNU!-1846691649!2118459043?wicket:interface=:0:search_panel:resultTable:list:bottomToolbars:2:toolbar:span:navigator:next::ILinkListener::\n",
      "#\n",
      "restricted/notification/notificationView.html;jsessionid=XfFaJk34-t5_ZIUIw3fFXRV4uxWU1KVStUw592bSIVLMpXJyNvNU!-1846691649!2118459043?notificationId=7881806&lotId=7881776&prevPageN=0\n",
      "docview/notificationPrintPage.html;jsessionid=XfFaJk34-t5_ZIUIw3fFXRV4uxWU1KVStUw592bSIVLMpXJyNvNU!-1846691649!2118459043?id=7881806&prevPageN=0\n",
      "#\n",
      "restricted/notification/notificationView.html;jsessionid=XfFaJk34-t5_ZIUIw3fFXRV4uxWU1KVStUw592bSIVLMpXJyNvNU!-1846691649!2118459043?notificationId=5210193&lotId=5210237&prevPageN=0\n",
      "docview/notificationPrintPage.html;jsessionid=XfFaJk34-t5_ZIUIw3fFXRV4uxWU1KVStUw592bSIVLMpXJyNvNU!-1846691649!2118459043?id=5210193&prevPageN=0\n",
      "#\n",
      "restricted/notification/notificationView.html;jsessionid=XfFaJk34-t5_ZIUIw3fFXRV4uxWU1KVStUw592bSIVLMpXJyNvNU!-1846691649!2118459043?notificationId=5210193&lotId=5210238&prevPageN=0\n",
      "docview/notificationPrintPage.html;jsessionid=XfFaJk34-t5_ZIUIw3fFXRV4uxWU1KVStUw592bSIVLMpXJyNvNU!-1846691649!2118459043?id=5210193&prevPageN=0\n",
      "#\n",
      "restricted/notification/notificationView.html;jsessionid=XfFaJk34-t5_ZIUIw3fFXRV4uxWU1KVStUw592bSIVLMpXJyNvNU!-1846691649!2118459043?notificationId=5210193&lotId=5210216&prevPageN=0\n",
      "docview/notificationPrintPage.html;jsessionid=XfFaJk34-t5_ZIUIw3fFXRV4uxWU1KVStUw592bSIVLMpXJyNvNU!-1846691649!2118459043?id=5210193&prevPageN=0\n",
      "#\n",
      "restricted/notification/notificationView.html;jsessionid=XfFaJk34-t5_ZIUIw3fFXRV4uxWU1KVStUw592bSIVLMpXJyNvNU!-1846691649!2118459043?notificationId=5210193&lotId=5210241&prevPageN=0\n",
      "docview/notificationPrintPage.html;jsessionid=XfFaJk34-t5_ZIUIw3fFXRV4uxWU1KVStUw592bSIVLMpXJyNvNU!-1846691649!2118459043?id=5210193&prevPageN=0\n",
      "#\n",
      "restricted/notification/notificationView.html;jsessionid=XfFaJk34-t5_ZIUIw3fFXRV4uxWU1KVStUw592bSIVLMpXJyNvNU!-1846691649!2118459043?notificationId=5210193&lotId=5210220&prevPageN=0\n",
      "docview/notificationPrintPage.html;jsessionid=XfFaJk34-t5_ZIUIw3fFXRV4uxWU1KVStUw592bSIVLMpXJyNvNU!-1846691649!2118459043?id=5210193&prevPageN=0\n",
      "#\n",
      "restricted/notification/notificationView.html;jsessionid=XfFaJk34-t5_ZIUIw3fFXRV4uxWU1KVStUw592bSIVLMpXJyNvNU!-1846691649!2118459043?notificationId=5210193&lotId=5210244&prevPageN=0\n",
      "docview/notificationPrintPage.html;jsessionid=XfFaJk34-t5_ZIUIw3fFXRV4uxWU1KVStUw592bSIVLMpXJyNvNU!-1846691649!2118459043?id=5210193&prevPageN=0\n",
      "#\n",
      "restricted/notification/notificationView.html;jsessionid=XfFaJk34-t5_ZIUIw3fFXRV4uxWU1KVStUw592bSIVLMpXJyNvNU!-1846691649!2118459043?notificationId=5210193&lotId=5210266&prevPageN=0\n",
      "docview/notificationPrintPage.html;jsessionid=XfFaJk34-t5_ZIUIw3fFXRV4uxWU1KVStUw592bSIVLMpXJyNvNU!-1846691649!2118459043?id=5210193&prevPageN=0\n",
      "#\n",
      "restricted/notification/notificationView.html;jsessionid=XfFaJk34-t5_ZIUIw3fFXRV4uxWU1KVStUw592bSIVLMpXJyNvNU!-1846691649!2118459043?notificationId=5210193&lotId=5210268&prevPageN=0\n",
      "docview/notificationPrintPage.html;jsessionid=XfFaJk34-t5_ZIUIw3fFXRV4uxWU1KVStUw592bSIVLMpXJyNvNU!-1846691649!2118459043?id=5210193&prevPageN=0\n",
      "#\n",
      "restricted/notification/notificationView.html;jsessionid=XfFaJk34-t5_ZIUIw3fFXRV4uxWU1KVStUw592bSIVLMpXJyNvNU!-1846691649!2118459043?notificationId=5210193&lotId=5210271&prevPageN=0\n",
      "docview/notificationPrintPage.html;jsessionid=XfFaJk34-t5_ZIUIw3fFXRV4uxWU1KVStUw592bSIVLMpXJyNvNU!-1846691649!2118459043?id=5210193&prevPageN=0\n",
      "mailto:info-torgi@rostelecom.ru\n"
     ]
    }
   ],
   "source": [
    "li = soup.select('a')\n",
    "print(len(li))\n",
    "for link in li:\n",
    "    print(link.get('href'))\n",
    "    "
   ]
  },
  {
   "cell_type": "code",
   "execution_count": null,
   "metadata": {
    "collapsed": true
   },
   "outputs": [],
   "source": []
  },
  {
   "cell_type": "code",
   "execution_count": null,
   "metadata": {
    "collapsed": true
   },
   "outputs": [],
   "source": [
    "    "
   ]
  }
 ],
 "metadata": {
  "kernelspec": {
   "display_name": "Python 3",
   "language": "python",
   "name": "python3"
  },
  "language_info": {
   "codemirror_mode": {
    "name": "ipython",
    "version": 3
   },
   "file_extension": ".py",
   "mimetype": "text/x-python",
   "name": "python",
   "nbconvert_exporter": "python",
   "pygments_lexer": "ipython3",
   "version": "3.6.0"
  }
 },
 "nbformat": 4,
 "nbformat_minor": 0
}
