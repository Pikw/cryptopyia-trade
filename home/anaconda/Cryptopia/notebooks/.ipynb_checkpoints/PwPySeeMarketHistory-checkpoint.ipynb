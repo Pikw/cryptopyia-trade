{
 "cells": [
  {
   "cell_type": "code",
   "execution_count": 2,
   "metadata": {
    "collapsed": true
   },
   "outputs": [],
   "source": [
    "#   Used inf cron ewery hour without grath\n",
    "#\n",
    "#-----------------------\n",
    "import requests\n",
    "import json\n",
    "import pandas as pd\n",
    "from pandas.io.json import json_normalize\n",
    "import matplotlib.pyplot as plt\n",
    "from datetime import datetime\n",
    "from datetime import timedelta    \n",
    "%matplotlib inline\n",
    "# print (pd.__name__, pd.__version__)"
   ]
  },
  {
   "cell_type": "code",
   "execution_count": 2,
   "metadata": {},
   "outputs": [
    {
     "data": {
      "text/plain": [
       "<Response [200]>"
      ]
     },
     "execution_count": 2,
     "metadata": {},
     "output_type": "execute_result"
    }
   ],
   "source": [
    "cid = '4909' # BTC/USDT #4327 # ZEC/BTC 1261 # PAC/DTC 5662 # ETH/BTC 5760 # ETH/USDT\n",
    "hid = '2' # hours is\n",
    "path = 'https://www.cryptopia.co.nz/api/GetMarketHistory/' + cid + '/' + hid\n",
    "r = requests.get(path); r "
   ]
  },
  {
   "cell_type": "code",
   "execution_count": 3,
   "metadata": {
    "scrolled": true
   },
   "outputs": [
    {
     "name": "stdout",
     "output_type": "stream",
     "text": [
      "RangeIndex(start=0, stop=469, step=1)\n"
     ]
    }
   ],
   "source": [
    "df = json_normalize(json.loads(r.text)['Data'])\n",
    "# print (df['Amount'].max())\n",
    "# print (df['Amount'].mean())\n",
    "# print (df.info)\n",
    "# print (df.describe())\n",
    "print (df.index)"
   ]
  },
  {
   "cell_type": "code",
   "execution_count": 4,
   "metadata": {},
   "outputs": [
    {
     "name": "stdout",
     "output_type": "stream",
     "text": [
      "0:00:44.354839\n",
      "1:58:27\n"
     ]
    }
   ],
   "source": [
    "# анализ запроса\n",
    "# print (dkow) # сейчас время\n",
    "dfrom = datetime.fromtimestamp(df.tail(1)['Timestamp']) # время первой сделки в датафрейме \n",
    "dto = datetime.fromtimestamp(df.iloc[1]['Timestamp']) # время последней сделки \n",
    "dkow = datetime.now() - timedelta(hours=3) # время сейчас с учетом отставания 3 часа\n",
    "print (dkow - dto) # отставание последних данных\n",
    "print (dto - dfrom) # за сколько данные смотри hid"
   ]
  },
  {
   "cell_type": "code",
   "execution_count": 5,
   "metadata": {},
   "outputs": [
    {
     "name": "stdout",
     "output_type": "stream",
     "text": [
      "--------------TO-----------------\n",
      "2018-03-15 00:37:41\n",
      "-------------FROM----------------\n",
      "468   2018-03-14 22:39:14\n",
      "Name: Timestamp, dtype: datetime64[ns]\n"
     ]
    }
   ],
   "source": [
    "newdf = df; newdf['Inbtc'] = newdf['Price'] * newdf['Amount'] # новый столбец цена в BTC\n",
    "newdf['Timestamp'] = pd.to_datetime(df['Timestamp'], unit='s') # перевод даты\n",
    "print ('--------------TO-----------------')\n",
    "print (newdf.iloc[1]['Timestamp']) # начальное время\n",
    "print ('-------------FROM----------------')\n",
    "print (newdf.tail(1)['Timestamp'])"
   ]
  },
  {
   "cell_type": "code",
   "execution_count": 6,
   "metadata": {
    "collapsed": true
   },
   "outputs": [],
   "source": [
    "# Way One Last DATA\n",
    "newindex = newdf.set_index(df['Timestamp'])\n",
    "dfnew = newindex.resample('1Min').agg({'Price': 'mean', 'Amount': 'sum', 'Inbtc': 'sum', 'Total': 'sum'})# .head()\n",
    "# dfnew['Price'].plot(color='blue',grid=True, secondary_y=True)\n",
    "# dfnew['Total'].plot(color='gray',grid=True)\n",
    "# plt.show()"
   ]
  },
  {
   "cell_type": "code",
   "execution_count": null,
   "metadata": {
    "collapsed": true
   },
   "outputs": [],
   "source": [
    "# загружаем нашу базу \n",
    "dfload = pd.DataFrame.from_csv(path='data.csv')\n"
   ]
  },
  {
   "cell_type": "code",
   "execution_count": null,
   "metadata": {
    "collapsed": true
   },
   "outputs": [],
   "source": [
    "\n",
    "\n",
    "dfload['Price'].plot(color='blue',grid=True, secondary_y=True)\n",
    "dfload['Total'].plot(color='gray',grid=True)\n",
    "plt.show()"
   ]
  },
  {
   "cell_type": "code",
   "execution_count": 10,
   "metadata": {
    "collapsed": true
   },
   "outputs": [],
   "source": [
    "dfcc.to_csv(path_or_buf='data.csv')"
   ]
  },
  {
   "cell_type": "code",
   "execution_count": 11,
   "metadata": {},
   "outputs": [
    {
     "name": "stdout",
     "output_type": "stream",
     "text": [
      "-------- Last DATA Hour --------\n",
      "DatetimeIndex(['2018-03-15 00:37:00'], dtype='datetime64[ns]', name='Timestamp', freq=None)\n"
     ]
    }
   ],
   "source": [
    "print('-------- Last DATA Hour --------')\n",
    "print(dfcc.tail(1).index)"
   ]
  },
  {
   "cell_type": "code",
   "execution_count": null,
   "metadata": {
    "collapsed": true
   },
   "outputs": [],
   "source": []
  },
  {
   "cell_type": "code",
   "execution_count": null,
   "metadata": {
    "collapsed": true
   },
   "outputs": [],
   "source": []
  },
  {
   "cell_type": "code",
   "execution_count": null,
   "metadata": {
    "collapsed": true
   },
   "outputs": [],
   "source": []
  },
  {
   "cell_type": "code",
   "execution_count": null,
   "metadata": {
    "collapsed": true
   },
   "outputs": [],
   "source": []
  }
 ],
 "metadata": {
  "kernelspec": {
   "display_name": "Python 3",
   "language": "python",
   "name": "python3"
  },
  "language_info": {
   "codemirror_mode": {
    "name": "ipython",
    "version": 3
   },
   "file_extension": ".py",
   "mimetype": "text/x-python",
   "name": "python",
   "nbconvert_exporter": "python",
   "pygments_lexer": "ipython3",
   "version": "3.6.1"
  }
 },
 "nbformat": 4,
 "nbformat_minor": 2
}
